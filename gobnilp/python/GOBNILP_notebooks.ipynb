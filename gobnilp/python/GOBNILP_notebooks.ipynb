{
 "cells": [
  {
   "cell_type": "markdown",
   "metadata": {},
   "source": [
    "# Jupyter notebooks for the Python version of GOBNILP"
   ]
  },
  {
   "cell_type": "markdown",
   "metadata": {},
   "source": [
    "\n",
    "At present the following notebooks are available.\n",
    "\n",
    "* [Basic learning from continuous data](Basic_learning_from_continuous_data.ipynb)\n",
    "* [Basic learning from discrete data](Basic_learning_from_discrete_data.ipynb)\n",
    "* [Calling gobnilp from R](Calling_gobnilp_from_R.ipynb)\n",
    "* [Computing local scores and solving with and without constraints](Computing_local_scores_and_solving_with_and_without_constraints.ipynb)\n",
    "* [Using simple constraints](Using_simple_constraints.ipynb)\n",
    "\n"
   ]
  }
 ],
 "metadata": {
  "kernelspec": {
   "display_name": "Python 3",
   "language": "python",
   "name": "python3"
  },
  "language_info": {
   "codemirror_mode": {
    "name": "ipython",
    "version": 3
   },
   "file_extension": ".py",
   "mimetype": "text/x-python",
   "name": "python",
   "nbconvert_exporter": "python",
   "pygments_lexer": "ipython3",
   "version": "3.6.9"
  }
 },
 "nbformat": 4,
 "nbformat_minor": 2
}
