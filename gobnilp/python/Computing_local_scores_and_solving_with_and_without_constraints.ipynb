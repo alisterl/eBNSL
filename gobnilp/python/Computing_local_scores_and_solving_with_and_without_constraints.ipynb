{
 "cells": [
  {
   "cell_type": "markdown",
   "metadata": {},
   "source": [
    "We start, as normal, by creating a `Gobnilp` object to work with:"
   ]
  },
  {
   "cell_type": "code",
   "execution_count": 1,
   "metadata": {},
   "outputs": [
    {
     "name": "stdout",
     "output_type": "stream",
     "text": [
      "Academic license - for non-commercial use only\n"
     ]
    }
   ],
   "source": [
    "from gobnilp import Gobnilp\n",
    "m = Gobnilp()"
   ]
  },
  {
   "cell_type": "markdown",
   "metadata": {},
   "source": [
    "Now we will create 'local scores' from the built-in `alarm_10000.dat` dataset:"
   ]
  },
  {
   "cell_type": "code",
   "execution_count": 2,
   "metadata": {},
   "outputs": [],
   "source": [
    "m.input_discrete_data('alarm_10000.dat')\n",
    "local_scores_dict = m.return_local_scores()"
   ]
  },
  {
   "cell_type": "markdown",
   "metadata": {},
   "source": [
    "The computation of these local scores is not immediate, but should not take too long. Since `return_local_scores` was called with no arguments, `Gobnilp`'s default BDeu score will be used. `return_local_scores` is unusual for a `Gobnilp` method since it returns a value: a dictionary of local scores. The keys of this dictionary are the BN variables (the names of these variables are given on the first line of `alarm_10000.dat`). "
   ]
  },
  {
   "cell_type": "code",
   "execution_count": 3,
   "metadata": {},
   "outputs": [
    {
     "name": "stdout",
     "output_type": "stream",
     "text": [
      "dict_keys(['ANAPHYLAXIS', 'ARTCO2', 'BP', 'CATECHOL', 'CO', 'CVP', 'DISCONNECT', 'ERRCAUTER', 'ERRLOWOUTPUT', 'EXPCO2', 'FIO2', 'HISTORY', 'HR', 'HRBP', 'HREKG', 'HRSAT', 'HYPOVOLEMIA', 'INSUFFANESTH', 'INTUBATION', 'KINKEDTUBE', 'LVEDVOLUME', 'LVFAILURE', 'MINVOL', 'MINVOLSET', 'PAP', 'PCWP', 'PRESS', 'PULMEMBOLUS', 'PVSAT', 'SAO2', 'SHUNT', 'STROKEVOLUME', 'TPR', 'VENTALV', 'VENTLUNG', 'VENTMACH', 'VENTTUBE'])\n"
     ]
    }
   ],
   "source": [
    "print(local_scores_dict.keys())"
   ]
  },
  {
   "cell_type": "markdown",
   "metadata": {},
   "source": [
    "The value associated with each BN variable is a dictionary mapping potential parent sets for that variable to a local score - which states, intuitively, how good it would be for that parent set to be selected. We find that there is variation in the number of parent sets stored:"
   ]
  },
  {
   "cell_type": "code",
   "execution_count": 4,
   "metadata": {},
   "outputs": [
    {
     "name": "stdout",
     "output_type": "stream",
     "text": [
      "ANAPHYLAXIS 5\n",
      "ARTCO2 473\n",
      "BP 266\n",
      "CATECHOL 383\n",
      "CO 469\n",
      "CVP 32\n",
      "DISCONNECT 127\n",
      "ERRCAUTER 22\n",
      "ERRLOWOUTPUT 14\n",
      "EXPCO2 176\n",
      "FIO2 18\n",
      "HISTORY 36\n",
      "HR 154\n",
      "HRBP 135\n",
      "HREKG 122\n",
      "HRSAT 122\n",
      "HYPOVOLEMIA 57\n",
      "INSUFFANESTH 1\n",
      "INTUBATION 211\n",
      "KINKEDTUBE 41\n",
      "LVEDVOLUME 64\n",
      "LVFAILURE 84\n",
      "MINVOL 371\n",
      "MINVOLSET 96\n",
      "PAP 3\n",
      "PCWP 43\n",
      "PRESS 212\n",
      "PULMEMBOLUS 10\n",
      "PVSAT 440\n",
      "SAO2 471\n",
      "SHUNT 162\n",
      "STROKEVOLUME 109\n",
      "TPR 173\n",
      "VENTALV 472\n",
      "VENTLUNG 448\n",
      "VENTMACH 134\n",
      "VENTTUBE 317\n"
     ]
    }
   ],
   "source": [
    "for child, scored_parentsets in local_scores_dict.items():\n",
    "    print(child, len(scored_parentsets))"
   ]
  },
  {
   "cell_type": "markdown",
   "metadata": {},
   "source": [
    "ANAPHYLAXIS has a mere 5 parent sets whereas ARTCO2 has 473! This is because `Gobnilp` is using *pruning*. If a variable $X$ has potential parent set $S$ which is a superset of another potential parent set $T$ which has a higher score then $S$ is 'pruned' away. This is because, assuming we do not have any special constraints on allowed BNs, we can never have an optimal BN where $S$ is a parent set, since we could always replace $S$ with $T$ and get a higher scoring BN *without creating a cycle, since we would remove arrows*.\n",
    "\n",
    "It just so happens that more parent sets were pruned for ANAPHYLAXIS than ARTCO2. Let's look at the scored parent sets for ANAPHYLAXIS:"
   ]
  },
  {
   "cell_type": "code",
   "execution_count": 5,
   "metadata": {},
   "outputs": [
    {
     "name": "stdout",
     "output_type": "stream",
     "text": [
      "frozenset() -578.587070487134\n",
      "frozenset({'BP'}) -523.5582005530596\n",
      "frozenset({'CATECHOL'}) -577.4536694321869\n",
      "frozenset({'TPR'}) -471.48556937259855\n",
      "frozenset({'BP', 'HYPOVOLEMIA'}) -518.1711042499956\n"
     ]
    }
   ],
   "source": [
    "for parentset, score in local_scores_dict['ANAPHYLAXIS'].items():\n",
    "    print(parentset, score)"
   ]
  },
  {
   "cell_type": "markdown",
   "metadata": {},
   "source": [
    "The empty set has the worst score of the 5 - if any of the non-empty parent set had a worse score it would be pruned.\n",
    "\n",
    "Each local score will be eventually be associated with a Gurobi MIP variable called a *family variable* (since it is associated with a 'child' variable and a parent set). The fewer of these family variables the better since the MIP will be smaller and thus easier for Gurobi to solve. If we have prior knowledge then this can \n",
    "1. reduce the number of local scores, and\n",
    "2. reduce the time required to compute the local scores\n",
    "\n",
    "To provide an example of how prior knowledge can help, let's see how often variables occur in the potential parent sets for ARTCO2:"
   ]
  },
  {
   "cell_type": "code",
   "execution_count": 6,
   "metadata": {},
   "outputs": [
    {
     "name": "stdout",
     "output_type": "stream",
     "text": [
      "Counter({'EXPCO2': 101, 'SHUNT': 98, 'INTUBATION': 93, 'DISCONNECT': 91, 'CATECHOL': 85, 'KINKEDTUBE': 75, 'MINVOLSET': 72, 'VENTMACH': 62, 'PRESS': 60, 'SAO2': 56, 'VENTLUNG': 50, 'VENTTUBE': 50, 'HR': 49, 'HREKG': 42, 'HRSAT': 42, 'HRBP': 41, 'TPR': 40, 'PVSAT': 37, 'MINVOL': 31, 'CO': 25, 'FIO2': 12, 'BP': 7, 'VENTALV': 5, 'STROKEVOLUME': 1})\n"
     ]
    }
   ],
   "source": [
    "from collections import Counter\n",
    "d = Counter()\n",
    "for parent_set in local_scores_dict['ARTCO2']:\n",
    "    for v in parent_set:\n",
    "        d[v] += 1\n",
    "print(d)    "
   ]
  },
  {
   "cell_type": "markdown",
   "metadata": {},
   "source": [
    "So, for example KINKEDTUBE occurs in 75 parent sets. Now, suppose we knew that ARTCO2 and KINKEDTUNE had to be independent. Then we should provide this information to Gobnilp. We do this as follows:"
   ]
  },
  {
   "cell_type": "code",
   "execution_count": 7,
   "metadata": {},
   "outputs": [],
   "source": [
    "m.add_independence(['ARTCO2'],['KINKEDTUBE'])"
   ]
  },
  {
   "cell_type": "markdown",
   "metadata": {},
   "source": [
    "We can recompute the local scores with this new information available:"
   ]
  },
  {
   "cell_type": "code",
   "execution_count": 8,
   "metadata": {},
   "outputs": [],
   "source": [
    "local_scores_dict = m.return_local_scores()"
   ]
  },
  {
   "cell_type": "markdown",
   "metadata": {},
   "source": [
    "And now we can check that there should be 75 fewer parents for ARTCO2, and also some reduction in the parent sets for KINKEDTUBE. "
   ]
  },
  {
   "cell_type": "code",
   "execution_count": 9,
   "metadata": {},
   "outputs": [
    {
     "name": "stdout",
     "output_type": "stream",
     "text": [
      "398\n",
      "32\n"
     ]
    }
   ],
   "source": [
    "print(len(local_scores_dict['ARTCO2']))\n",
    "print(len(local_scores_dict['KINKEDTUBE']))"
   ]
  },
  {
   "cell_type": "markdown",
   "metadata": {},
   "source": [
    "As expected there are $398 = 473 - 75$ fewere parent sets for ARTCO2, and also some reduction in the number of parent sets for KINKEDTUBE. This is because we asserted an independence constraint, which we can get to via the `obligatroy_conditional_indepedences` attribute:"
   ]
  },
  {
   "cell_type": "code",
   "execution_count": 10,
   "metadata": {},
   "outputs": [
    {
     "data": {
      "text/plain": [
       "{(frozenset({'ARTCO2'}), frozenset({'KINKEDTUBE'}), frozenset())}"
      ]
     },
     "execution_count": 10,
     "metadata": {},
     "output_type": "execute_result"
    }
   ],
   "source": [
    "m.obligatory_conditional_independences"
   ]
  },
  {
   "cell_type": "markdown",
   "metadata": {},
   "source": [
    "Note that the independence constraint is stored as a conditional independence constraint with an empty conditioning set (the 3rd set in the tuple above). Also note that `Gobnilp` is taking advantage of this constraint before a MIP problem has been created - to help reduce the number of local scores computed. Naturally this constraint is also taken into account when learning a BN (which is done by constructing and solving a MIP model) to ensure that any learned BN satisfies the constraint.\n",
    "\n",
    "When an independence (or conditional independence) constraint is added (by the user) `Gobnilp` deduces that certain other simpler constraints follow. In our current example, it is deduced that\n",
    "1. there can be no arrow between the two variables, and\n",
    "2. the two variables cannot be adjacent in the undirected skeleton"
   ]
  },
  {
   "cell_type": "code",
   "execution_count": 11,
   "metadata": {},
   "outputs": [
    {
     "data": {
      "text/plain": [
       "{('ARTCO2', 'KINKEDTUBE'), ('KINKEDTUBE', 'ARTCO2')}"
      ]
     },
     "execution_count": 11,
     "metadata": {},
     "output_type": "execute_result"
    }
   ],
   "source": [
    "m.forbidden_arrows"
   ]
  },
  {
   "cell_type": "code",
   "execution_count": 12,
   "metadata": {},
   "outputs": [
    {
     "data": {
      "text/plain": [
       "{frozenset({'ARTCO2', 'KINKEDTUBE'})}"
      ]
     },
     "execution_count": 12,
     "metadata": {},
     "output_type": "execute_result"
    }
   ],
   "source": [
    "m.forbidden_adjacencies"
   ]
  },
  {
   "cell_type": "markdown",
   "metadata": {},
   "source": [
    "Next, let's learn an optimal BN and check that it satisfies the given independence constraint. Since this is a reasonably hard BN learning problem, we'll get the output from Gurobi printed out so we can at least see the progress. We do this by setting the appropriate Gurobi attribute. "
   ]
  },
  {
   "cell_type": "code",
   "execution_count": 13,
   "metadata": {},
   "outputs": [
    {
     "name": "stdout",
     "output_type": "stream",
     "text": [
      "Changed value of parameter OutputFlag to 1\n",
      "   Prev: 0  Min: 0  Max: 1  Default: 1\n",
      "Changed value of parameter PoolSolutions to 1\n",
      "   Prev: 10  Min: 1  Max: 2000000000  Default: 10\n",
      "Changed value of parameter LazyConstraints to 1\n",
      "   Prev: 0  Min: 0  Max: 1  Default: 0\n",
      "Optimize a model with 2288 rows, 7349 columns and 158765 nonzeros\n",
      "Variable types: 0 continuous, 7349 integer (7349 binary)\n",
      "Coefficient statistics:\n",
      "  Matrix range     [1e+00, 1e+00]\n",
      "  Objective range  [1e+02, 1e+04]\n",
      "  Bounds range     [1e+00, 1e+00]\n",
      "  RHS range        [1e+00, 1e+00]\n",
      "Presolve removed 663 rows and 383 columns\n",
      "Presolve time: 0.68s\n",
      "Presolved: 1625 rows, 6966 columns, 85959 nonzeros\n",
      "Variable types: 0 continuous, 6966 integer (6966 binary)\n",
      "Found heuristic solution: objective -205904.1188\n",
      "Presolve removed 382 rows and 0 columns\n",
      "Presolved: 1245 rows, 6966 columns, 29748 nonzeros\n",
      "\n",
      "\n",
      "Root relaxation: objective -8.362617e+04, 208 iterations, 0.06 seconds\n",
      "\n",
      "    Nodes    |    Current Node    |     Objective Bounds      |     Work\n",
      " Expl Unexpl |  Obj  Depth IntInf | Incumbent    BestBd   Gap | It/Node Time\n",
      "\n",
      "     0     0 -83626.171    0   45 -205904.12 -83626.171  59.4%     -    1s\n",
      "     0     0 -85310.337    0   51 -205904.12 -85310.337  58.6%     -    1s\n",
      "     0     0 -85696.717    0   99 -205904.12 -85696.717  58.4%     -    1s\n",
      "     0     0 -86867.682    0  136 -205904.12 -86867.682  57.8%     -    2s\n",
      "     0     0 -88776.575    0   82 -205904.12 -88776.575  56.9%     -    2s\n",
      "     0     0 -89754.685    0  184 -205904.12 -89754.685  56.4%     -    2s\n",
      "     0     0 -91347.710    0  112 -205904.12 -91347.710  55.6%     -    3s\n",
      "     0     0 -92096.004    0  206 -205904.12 -92096.004  55.3%     -    4s\n",
      "     0     0 -94859.862    0  209 -205904.12 -94859.862  53.9%     -    4s\n",
      "     0     0 -97348.900    0  278 -205904.12 -97348.900  52.7%     -    5s\n",
      "     0     0 -97658.139    0  292 -205904.12 -97658.139  52.6%     -    5s\n",
      "     0     0 -100927.38    0  319 -205904.12 -100927.38  51.0%     -    6s\n",
      "     0     0 -101521.27    0  298 -205904.12 -101521.27  50.7%     -    8s\n",
      "     0     0 -101980.97    0  284 -205904.12 -101980.97  50.5%     -    9s\n",
      "     0     0 -102552.86    0  290 -205904.12 -102552.86  50.2%     -   10s\n",
      "     0     0 -102657.37    0  175 -205904.12 -102657.37  50.1%     -   11s\n",
      "     0     0 -102774.61    0  297 -205904.12 -102774.61  50.1%     -   11s\n",
      "     0     0 -102815.10    0  313 -205904.12 -102815.10  50.1%     -   12s\n",
      "     0     0 -103206.23    0  304 -205904.12 -103206.23  49.9%     -   14s\n",
      "     0     0 -103296.76    0  303 -205904.12 -103296.76  49.8%     -   15s\n",
      "     0     0 -103320.41    0  284 -205904.12 -103320.41  49.8%     -   16s\n",
      "     0     0 -103595.24    0  287 -205904.12 -103595.24  49.7%     -   16s\n",
      "     0     0 -103723.58    0  286 -205904.12 -103723.58  49.6%     -   18s\n",
      "     0     0 -103751.64    0  265 -205904.12 -103751.64  49.6%     -   19s\n",
      "     0     0 -103916.02    0  242 -205904.12 -103916.02  49.5%     -   20s\n",
      "     0     0 -103928.22    0  221 -205904.12 -103928.22  49.5%     -   21s\n",
      "     0     0 -104013.32    0  205 -205904.12 -104013.32  49.5%     -   21s\n",
      "     0     0 -104081.96    0  194 -205904.12 -104081.96  49.5%     -   22s\n",
      "     0     0 -104092.32    0  195 -205904.12 -104092.32  49.4%     -   23s\n",
      "     0     0 -104138.24    0  263 -205904.12 -104138.24  49.4%     -   25s\n",
      "     0     0 -104138.24    0  263 -205904.12 -104138.24  49.4%     -   30s\n",
      "     0     0 -104148.63    0  251 -205904.12 -104148.63  49.4%     -   32s\n",
      "     0     0 -104154.87    0   96 -205904.12 -104154.87  49.4%     -   33s\n",
      "     0     0 -104295.50    0  149 -205904.12 -104295.50  49.3%     -   34s\n",
      "     0     0 -104369.91    0  213 -205904.12 -104369.91  49.3%     -   35s\n",
      "     0     0 -104373.89    0  177 -205904.12 -104373.89  49.3%     -   36s\n",
      "     0     0 -104391.82    0  232 -205904.12 -104391.82  49.3%     -   37s\n",
      "     0     0 -104399.09    0  237 -205904.12 -104399.09  49.3%     -   39s\n",
      "     0     0 -104461.74    0  298 -205904.12 -104461.74  49.3%     -   40s\n",
      "     0     0 -104473.21    0  305 -205904.12 -104473.21  49.3%     -   42s\n",
      "     0     0 -104474.69    0  332 -205904.12 -104474.69  49.3%     -   43s\n",
      "     0     0 -104478.77    0  210 -205904.12 -104478.77  49.3%     -   45s\n",
      "     0     0 -104497.59    0  328 -205904.12 -104497.59  49.2%     -   47s\n",
      "     0     0 -104501.24    0  294 -205904.12 -104501.24  49.2%     -   49s\n",
      "     0     0 -104502.94    0  325 -205904.12 -104502.94  49.2%     -   49s\n",
      "     0     0 -104529.40    0  272 -205904.12 -104529.40  49.2%     -   51s\n",
      "     0     0 -104532.89    0  218 -205904.12 -104532.89  49.2%     -   54s\n",
      "     0     0 -104532.89    0  218 -205904.12 -104532.89  49.2%     -   55s\n",
      "     0     0 -104533.36    0  247 -205904.12 -104533.36  49.2%     -   55s\n",
      "     0     0 -104573.13    0  425 -205904.12 -104573.13  49.2%     -   56s\n",
      "     0     0 -104578.61    0  414 -205904.12 -104578.61  49.2%     -   57s\n",
      "     0     0 -104579.94    0  322 -205904.12 -104579.94  49.2%     -   58s\n",
      "     0     0 -104581.00    0  390 -205904.12 -104581.00  49.2%     -   59s\n",
      "     0     0 -104584.50    0  396 -205904.12 -104584.50  49.2%     -   61s\n",
      "     0     0 -104584.53    0  400 -205904.12 -104584.53  49.2%     -   61s\n",
      "     0     0 -104585.77    0  389 -205904.12 -104585.77  49.2%     -   63s\n",
      "     0     0 -104585.85    0  391 -205904.12 -104585.85  49.2%     -   63s\n",
      "     0     0 -104591.27    0  407 -205904.12 -104591.27  49.2%     -   65s\n",
      "     0     0 -104591.64    0  409 -205904.12 -104591.64  49.2%     -   66s\n",
      "     0     0 -104594.59    0  401 -205904.12 -104594.59  49.2%     -   68s\n",
      "     0     0 -104594.61    0  401 -205904.12 -104594.61  49.2%     -   68s\n",
      "     0     0 -104594.63    0  403 -205904.12 -104594.63  49.2%     -   70s\n",
      "     0     0 -104594.63    0  399 -205904.12 -104594.63  49.2%     -   72s\n",
      "     0     2 -104594.63    0  397 -205904.12 -104594.63  49.2%     -   73s\n",
      "    11    10 -104723.85    4  326 -205904.12 -104606.50  49.2%   297   75s\n",
      "    30    32 -104631.42   10  299 -205904.12 -104609.10  49.2%   212   80s\n",
      "   190   183 -105553.05   44   16 -205904.12 -104609.51  49.2%   107   85s\n",
      "   303   276 -104928.11   18  197 -205904.12 -104611.43  49.2%   101   90s\n",
      "   559   501 -105325.65   80   35 -205904.12 -104611.43  49.2%  77.8   95s\n",
      "   654   573 -105301.96    4  336 -205904.12 -104616.97  49.2%  73.7  104s\n",
      "   677   583 -106374.01   80    - -205904.12 -104629.98  49.2%  73.3  106s\n",
      "H  728   357                    -105455.6275 -104636.02  0.78%  74.3  110s\n",
      "   731   350 -104941.66    4  143 -105455.63 -104636.02  0.78%  74.0  116s\n",
      "   745   360 -105091.07   56  436 -105455.63 -104638.34  0.78%  72.6  120s\n",
      "   748   362 -105052.48    9  413 -105455.63 -104642.41  0.77%  72.3  127s\n",
      "   751   367 -104709.62   10  364 -105455.63 -104642.41  0.77%  78.9  132s\n",
      "   765   373 -104796.30   14  381 -105455.63 -104783.09  0.64%  83.1  135s\n",
      "   832   399 -105146.23   34  310 -105455.63 -104826.18  0.60%  91.1  140s\n",
      "*  908   376              42    -105351.9015 -104840.57  0.49%  92.4  143s\n",
      "H  921   351                    -105331.8158 -104840.57  0.47%  93.1  144s\n",
      "   923   349 -105225.79   18  254 -105331.82 -104840.57  0.47%  94.0  145s\n",
      "  1150   389 -105310.49   22  104 -105331.82 -104913.95  0.40%  93.7  150s\n",
      "  1301   436 -105299.19   23  184 -105331.82 -104959.01  0.35%  92.3  155s\n",
      "  1613   453 -105315.50   28  180 -105331.82 -105013.68  0.30%  90.3  160s\n",
      "  1932   544 -105250.86   25  294 -105331.82 -105042.66  0.27%  87.8  165s\n",
      "  2203   652 -105244.63   21    - -105331.82 -105070.42  0.25%  85.3  170s\n",
      "  2687   877     cutoff   18      -105331.82 -105103.90  0.22%  81.1  176s\n",
      "  2883   972 -105270.55   23  129 -105331.82 -105110.50  0.21%  79.8  180s\n",
      "  3330  1176 -105301.88   33    - -105331.82 -105124.57  0.20%  77.5  185s\n",
      "  3674  1310     cutoff   39      -105331.82 -105135.20  0.19%  76.3  190s\n",
      "  3964  1383     cutoff   22      -105331.82 -105144.73  0.18%  75.7  195s\n",
      "  4345  1469 -105307.87   43    - -105331.82 -105158.86  0.16%  75.0  201s\n",
      "  4564  1510 -105307.87   43    4 -105331.82 -105165.75  0.16%  74.8  205s\n",
      "  4944  1508 -105317.35   46   13 -105331.82 -105179.36  0.14%  74.4  210s\n",
      "  5335  1541 -105297.03   51    - -105331.82 -105190.42  0.13%  73.6  215s\n"
     ]
    },
    {
     "name": "stdout",
     "output_type": "stream",
     "text": [
      "  5890  1630     cutoff   57      -105331.82 -105200.06  0.13%  72.2  220s\n",
      "  6262  1640 -105311.56   34  104 -105331.82 -105210.34  0.12%  72.1  225s\n",
      "  6596  1681     cutoff   51      -105331.82 -105219.08  0.11%  71.4  231s\n",
      "  6926  1623 -105324.12   50    4 -105331.82 -105226.31  0.10%  70.9  235s\n",
      "  7385  1557 infeasible   59      -105331.82 -105234.03  0.09%  70.1  240s\n",
      "  7867  1569     cutoff   48      -105331.82 -105241.92  0.09%  68.8  246s\n",
      "  8199  1502 -105286.04   33  147 -105331.82 -105246.83  0.08%  68.0  250s\n",
      "  8716  1430 -105324.52   28   18 -105331.82 -105255.76  0.07%  67.1  255s\n",
      "  9546  1389 -105298.01   31    - -105331.82 -105263.63  0.06%  64.6  260s\n",
      " 10299  1426     cutoff   59      -105331.82 -105271.26  0.06%  61.8  265s\n",
      " 11098  1415 -105326.34   76    - -105331.82 -105275.75  0.05%  59.1  271s\n",
      " 11909  1461     cutoff   79      -105331.82 -105281.30  0.05%  56.4  276s\n",
      " 12655  1525 -105298.01   39    - -105331.82 -105285.14  0.04%  54.4  280s\n",
      " 13573  1582     cutoff   27      -105331.82 -105289.41  0.04%  52.1  288s\n",
      "H13577  1582                    -105331.8157 -105289.41  0.04%  52.1  288s\n",
      " 13828  1498     cutoff   54      -105331.82 -105291.46  0.04%  51.6  290s\n",
      " 14802  1513 -105330.38   34    - -105331.82 -105295.11  0.03%  49.2  295s\n",
      " 15790  1496     cutoff   47      -105331.82 -105298.41  0.03%  47.1  300s\n",
      " 17150  1313     cutoff   28      -105331.82 -105302.74  0.03%  44.5  305s\n",
      " 18256  1079     cutoff   35      -105331.82 -105307.38  0.02%  42.8  310s\n",
      " 19475   749     cutoff   48      -105331.82 -105313.75  0.02%  41.0  315s\n",
      " 20804   186     cutoff   51      -105331.82 -105327.03  0.00%  39.1  320s\n",
      "\n",
      "Cutting planes:\n",
      "  User: 173\n",
      "  Gomory: 5\n",
      "  Cover: 4\n",
      "  Flow cover: 6\n",
      "  Inf proof: 1\n",
      "  Zero half: 57\n",
      "  Lazy constraints: 1153\n",
      "\n",
      "Explored 21101 nodes (823351 simplex iterations) in 321.03 seconds\n",
      "Thread count was 4 (of 4 available processors)\n",
      "\n",
      "Solution count 1: -105332 \n",
      "\n",
      "Optimal solution found (tolerance 0.00e+00)\n",
      "Best objective -1.053318157069e+05, best bound -1.053318157069e+05, gap 0.0000%\n",
      "Parameter SolutionNumber unchanged\n",
      "   Value: 0  Min: 0  Max: 2000000000  Default: 0\n",
      "**********\n",
      "BN has score -105331.81570690058\n",
      "**********\n",
      "ANAPHYLAXIS<-TPR -471.48556937259855\n",
      "TPR<- -10901.914716929197\n",
      "ARTCO2<- -6994.266672414422\n",
      "BP<-CO,TPR -4927.804606748883\n",
      "CO<-HR,STROKEVOLUME -2678.9117199075263\n",
      "CATECHOL<-ARTCO2,TPR -1521.3018734225625\n",
      "STROKEVOLUME<-HYPOVOLEMIA,LVFAILURE -4437.288938131533\n",
      "HR<-CATECHOL -3744.599767304855\n",
      "CVP<-LVEDVOLUME -3006.6153021322098\n",
      "LVEDVOLUME<-HYPOVOLEMIA,LVFAILURE -3613.5057310384145\n",
      "DISCONNECT<-VENTTUBE -1567.6065855929191\n",
      "VENTTUBE<-INTUBATION,KINKEDTUBE,VENTLUNG -4542.004684191837\n",
      "ERRCAUTER<- -3222.576822231058\n",
      "ERRLOWOUTPUT<- -1972.2788189759885\n",
      "EXPCO2<-ARTCO2,VENTLUNG -1772.6591272249061\n",
      "VENTLUNG<-INTUBATION,VENTALV -1274.1873171138723\n",
      "FIO2<- -1888.6286705336533\n",
      "HISTORY<-LVFAILURE -637.4903136947978\n",
      "LVFAILURE<- -2010.543210255084\n",
      "HRBP<-ERRLOWOUTPUT,HR -1331.6218853034952\n",
      "HREKG<-ERRCAUTER,HR -1507.9736736634077\n",
      "HRSAT<-ERRCAUTER,HR -1452.085102920726\n",
      "HYPOVOLEMIA<- -4990.780506105162\n",
      "INSUFFANESTH<- -3303.7325344726705\n",
      "INTUBATION<-VENTALV -1981.4352130573243\n",
      "VENTALV<-ARTCO2 -3775.1325865381805\n",
      "KINKEDTUBE<- -1558.2831144287484\n",
      "MINVOL<-INTUBATION,VENTLUNG -2061.9057414227136\n",
      "MINVOLSET<-VENTMACH -946.5564916227886\n",
      "VENTMACH<-DISCONNECT,VENTTUBE -1896.468405037347\n",
      "PAP<- -4194.791057672541\n",
      "PCWP<-LVEDVOLUME -2233.68753796065\n",
      "PRESS<-INTUBATION,KINKEDTUBE,VENTTUBE -8478.131859909445\n",
      "PULMEMBOLUS<-PAP -396.6111867858417\n",
      "PVSAT<-FIO2,VENTALV -846.3768118197768\n",
      "SAO2<-PVSAT,SHUNT -1137.5909747223777\n",
      "SHUNT<-INTUBATION,PULMEMBOLUS -2052.9806218132726\n",
      "**********\n",
      "bnlearn modelstring = \n",
      "[ANAPHYLAXIS|TPR][TPR][ARTCO2][BP|CO:TPR][CO|STROKEVOLUME:HR][CATECHOL|TPR:ARTCO2][STROKEVOLUME|LVFAILURE:HYPOVOLEMIA][HR|CATECHOL][CVP|LVEDVOLUME][LVEDVOLUME|LVFAILURE:HYPOVOLEMIA][DISCONNECT|VENTTUBE][VENTTUBE|KINKEDTUBE:INTUBATION:VENTLUNG][ERRCAUTER][ERRLOWOUTPUT][EXPCO2|VENTLUNG:ARTCO2][VENTLUNG|INTUBATION:VENTALV][FIO2][HISTORY|LVFAILURE][LVFAILURE][HRBP|HR:ERRLOWOUTPUT][HREKG|HR:ERRCAUTER][HRSAT|HR:ERRCAUTER][HYPOVOLEMIA][INSUFFANESTH][INTUBATION|VENTALV][VENTALV|ARTCO2][KINKEDTUBE][MINVOL|INTUBATION:VENTLUNG][MINVOLSET|VENTMACH][VENTMACH|VENTTUBE:DISCONNECT][PAP][PCWP|LVEDVOLUME][PRESS|VENTTUBE:KINKEDTUBE:INTUBATION][PULMEMBOLUS|PAP][PVSAT|FIO2:VENTALV][SAO2|SHUNT:PVSAT][SHUNT|INTUBATION:PULMEMBOLUS]\n",
      "**********\n",
      "CPDAG:\n",
      "Vertices: ANAPHYLAXIS,TPR,ARTCO2,BP,CO,CATECHOL,STROKEVOLUME,HR,CVP,LVEDVOLUME,DISCONNECT,VENTTUBE,ERRCAUTER,ERRLOWOUTPUT,EXPCO2,VENTLUNG,FIO2,HISTORY,LVFAILURE,HRBP,HREKG,HRSAT,HYPOVOLEMIA,INSUFFANESTH,INTUBATION,VENTALV,KINKEDTUBE,MINVOL,MINVOLSET,VENTMACH,PAP,PCWP,PRESS,PULMEMBOLUS,PVSAT,SAO2,SHUNT\n",
      "TPR-ANAPHYLAXIS\n",
      "TPR->BP\n",
      "TPR->CATECHOL\n",
      "ARTCO2->CATECHOL\n",
      "ARTCO2->EXPCO2\n",
      "ARTCO2-VENTALV\n",
      "CO->BP\n",
      "CATECHOL->HR\n",
      "STROKEVOLUME->CO\n",
      "HR->CO\n",
      "HR->HRBP\n",
      "HR->HREKG\n",
      "HR->HRSAT\n",
      "LVEDVOLUME->CVP\n",
      "LVEDVOLUME->PCWP\n",
      "DISCONNECT-VENTMACH\n",
      "VENTTUBE->DISCONNECT\n",
      "VENTTUBE->PRESS\n",
      "VENTTUBE->VENTMACH\n",
      "ERRCAUTER->HREKG\n",
      "ERRCAUTER->HRSAT\n",
      "ERRLOWOUTPUT->HRBP\n",
      "VENTLUNG->EXPCO2\n",
      "VENTLUNG-MINVOL\n",
      "VENTLUNG->VENTTUBE\n",
      "FIO2->PVSAT\n",
      "LVFAILURE-HISTORY\n",
      "LVFAILURE->LVEDVOLUME\n",
      "LVFAILURE->STROKEVOLUME\n",
      "HYPOVOLEMIA->LVEDVOLUME\n",
      "HYPOVOLEMIA->STROKEVOLUME\n",
      "INTUBATION-MINVOL\n",
      "INTUBATION->PRESS\n",
      "INTUBATION->SHUNT\n",
      "INTUBATION-VENTLUNG\n",
      "INTUBATION->VENTTUBE\n",
      "VENTALV-INTUBATION\n",
      "VENTALV->PVSAT\n",
      "VENTALV-VENTLUNG\n",
      "KINKEDTUBE->PRESS\n",
      "KINKEDTUBE->VENTTUBE\n",
      "VENTMACH->MINVOLSET\n",
      "PAP-PULMEMBOLUS\n",
      "PULMEMBOLUS->SHUNT\n",
      "PVSAT->SAO2\n",
      "SHUNT->SAO2\n",
      "\n"
     ]
    },
    {
     "data": {
      "image/png": "[encoded data removed]",
      "text/plain": [
       "<Figure size 432x288 with 1 Axes>"
      ]
     },
     "metadata": {},
     "output_type": "display_data"
    }
   ],
   "source": [
    "m.input_local_scores(local_scores_dict) # store the computed local scores dictionary\n",
    "m.setParam('OutputFlag',True)\n",
    "m.learn() # construct a MIP model and get Gurobi to solve it"
   ]
  },
  {
   "cell_type": "markdown",
   "metadata": {},
   "source": [
    "Although this is quite a large network it is easy to see that ARTCO2 and KINKEDTUBE are indeed independent. This is because neither have any parents.\n",
    "\n",
    "Gobnilp/Gurobi took quite a while (321 seconds) to find a provably optimal BN in this case (and recall that we are running with the default parent set limit of 3 - were we to raise that solving would take longer still). As is normal Gobnilp spent some time (here 73 seconds) adding cutting planes to reduce the upper bound on the score of an optimal BN from an original upper bound of -83626.171 down to -104594.63. Then Gurobi builds a search tree by branching on the values of MIP variables, finally finding a BN with a reasonable score at node 728 of this tree. Although at this point we know that the incumbent is close to the best possible BN (gap = 0.78%) it takes quite a while longer and thousands more search nodes before we can be sure we have an optimal BN. (In fact an optimal, as opposed to close-to-optimal BN, is not found until near the end of the search at node 13577.)\n",
    "\n",
    "It is interesting to compare this to what happens when we learn from this dataset with *no extra constraints*:"
   ]
  },
  {
   "cell_type": "code",
   "execution_count": 14,
   "metadata": {},
   "outputs": [
    {
     "name": "stdout",
     "output_type": "stream",
     "text": [
      "Parameter OutputFlag unchanged\n",
      "   Value: 1  Min: 0  Max: 1  Default: 1\n",
      "Changed value of parameter PreCrush to 1\n",
      "   Prev: 0  Min: 0  Max: 1  Default: 0\n",
      "Changed value of parameter CutPasses to 100000\n",
      "   Prev: -1  Min: -1  Max: 2000000000  Default: -1\n",
      "Changed value of parameter GomoryPasses to 100000\n",
      "   Prev: -1  Min: -1  Max: 2000000000  Default: -1\n",
      "Changed value of parameter MIPFocus to 2\n",
      "   Prev: 0  Min: 0  Max: 3  Default: 0\n",
      "Changed value of parameter MIPGap to 0.0\n",
      "   Prev: 0.0001  Min: 0.0  Max: 1e+100  Default: 0.0001\n",
      "Changed value of parameter MIPGapAbs to 0.0\n",
      "   Prev: 1e-10  Min: 0.0  Max: 1e+100  Default: 1e-10\n",
      "Changed value of parameter PoolSolutions to 1\n",
      "   Prev: 10  Min: 1  Max: 2000000000  Default: 10\n",
      "Changed value of parameter LazyConstraints to 1\n",
      "   Prev: 0  Min: 0  Max: 1  Default: 0\n",
      "Optimize a model with 2304 rows, 7437 columns and 161370 nonzeros\n",
      "Variable types: 0 continuous, 7437 integer (7437 binary)\n",
      "Coefficient statistics:\n",
      "  Matrix range     [1e+00, 1e+00]\n",
      "  Objective range  [1e+02, 1e+04]\n",
      "  Bounds range     [1e+00, 1e+00]\n",
      "  RHS range        [1e+00, 1e+00]\n",
      "Presolve removed 663 rows and 382 columns\n",
      "Presolve time: 0.65s\n",
      "Presolved: 1641 rows, 7055 columns, 87103 nonzeros\n",
      "Variable types: 0 continuous, 7055 integer (7055 binary)\n",
      "Found heuristic solution: objective -205904.1188\n",
      "Presolve removed 384 rows and 0 columns\n",
      "Presolved: 1259 rows, 7055 columns, 29929 nonzeros\n",
      "\n",
      "\n",
      "Root relaxation: objective -8.362617e+04, 209 iterations, 0.09 seconds\n",
      "\n",
      "    Nodes    |    Current Node    |     Objective Bounds      |     Work\n",
      " Expl Unexpl |  Obj  Depth IntInf | Incumbent    BestBd   Gap | It/Node Time\n",
      "\n",
      "     0     0 -83626.171    0   45 -205904.12 -83626.171  59.4%     -    1s\n",
      "     0     0 -85310.337    0   51 -205904.12 -85310.337  58.6%     -    1s\n",
      "     0     0 -85879.634    0   64 -205904.12 -85879.634  58.3%     -    1s\n",
      "     0     0 -86213.541    0   48 -205904.12 -86213.541  58.1%     -    2s\n",
      "     0     0 -87161.221    0   76 -205904.12 -87161.221  57.7%     -    2s\n",
      "     0     0 -88652.518    0   83 -205904.12 -88652.518  56.9%     -    2s\n",
      "     0     0 -88709.688    0   75 -205904.12 -88709.688  56.9%     -    2s\n",
      "     0     0 -88781.794    0  121 -205904.12 -88781.794  56.9%     -    3s\n",
      "     0     0 -90260.283    0  152 -205904.12 -90260.283  56.2%     -    4s\n",
      "     0     0 -90260.283    0  152 -205904.12 -90260.283  56.2%     -    5s\n",
      "     0     0 -90578.149    0  184 -205904.12 -90578.149  56.0%     -    5s\n",
      "     0     0 -90678.455    0  214 -205904.12 -90678.455  56.0%     -    5s\n",
      "     0     0 -99019.442    0  166 -205904.12 -99019.442  51.9%     -    6s\n",
      "     0     0 -101286.41    0  281 -205904.12 -101286.41  50.8%     -    7s\n",
      "     0     0 -102499.38    0  249 -205904.12 -102499.38  50.2%     -    7s\n",
      "     0     0 -103042.55    0  289 -205904.12 -103042.55  50.0%     -    8s\n",
      "     0     0 -103258.96    0  263 -205904.12 -103258.96  49.9%     -   10s\n",
      "     0     0 -103345.34    0  262 -205904.12 -103345.34  49.8%     -   11s\n",
      "     0     0 -103462.01    0  237 -205904.12 -103462.01  49.8%     -   12s\n",
      "     0     0 -103545.27    0  198 -205904.12 -103545.27  49.7%     -   14s\n",
      "     0     0 -103619.68    0  263 -205904.12 -103619.68  49.7%     -   15s\n",
      "     0     0 -103657.43    0  250 -205904.12 -103657.43  49.7%     -   16s\n",
      "     0     0 -103720.72    0  264 -205904.12 -103720.72  49.6%     -   19s\n",
      "     0     0 -103870.08    0  326 -205904.12 -103870.08  49.6%     -   20s\n",
      "     0     0 -103914.53    0  282 -205904.12 -103914.53  49.5%     -   21s\n",
      "     0     0 -103988.37    0  222 -205904.12 -103988.37  49.5%     -   22s\n",
      "     0     0 -103998.92    0  275 -205904.12 -103998.92  49.5%     -   23s\n",
      "     0     0 -104025.73    0  271 -205904.12 -104025.73  49.5%     -   23s\n",
      "     0     0 -104115.97    0  292 -205904.12 -104115.97  49.4%     -   25s\n",
      "     0     0 -104119.56    0  283 -205904.12 -104119.56  49.4%     -   27s\n",
      "     0     0 -104134.11    0  268 -205904.12 -104134.11  49.4%     -   27s\n",
      "     0     0 -104136.94    0  280 -205904.12 -104136.94  49.4%     -   28s\n",
      "     0     0 -104154.49    0  128 -205904.12 -104154.49  49.4%     -   29s\n",
      "     0     0 -104155.01    0  118 -205904.12 -104155.01  49.4%     -   29s\n",
      "     0     0 -104222.59    0  226 -205904.12 -104222.59  49.4%     -   30s\n",
      "     0     0 -104230.04    0  250 -205904.12 -104230.04  49.4%     -   31s\n",
      "     0     0 -104288.20    0  270 -205904.12 -104288.20  49.4%     -   33s\n",
      "H    0     0                    -107879.8323 -104288.20  3.33%     -   34s\n",
      "     0     0 -104298.80    0  237 -107879.83 -104298.80  3.32%     -   34s\n",
      "     0     0 -104299.23    0  197 -107879.83 -104299.23  3.32%     -   35s\n",
      "     0     0 -104351.34    0  231 -107879.83 -104351.34  3.27%     -   36s\n",
      "     0     0 -104351.34    0  231 -107879.83 -104351.34  3.27%     -   40s\n",
      "     0     0 -104377.89    0  230 -107879.83 -104377.89  3.25%     -   42s\n",
      "     0     0 -104383.20    0  224 -107879.83 -104383.20  3.24%     -   43s\n",
      "     0     0 -104383.88    0  224 -107879.83 -104383.88  3.24%     -   44s\n",
      "     0     0 -104409.67    0  272 -107879.83 -104409.67  3.22%     -   45s\n",
      "     0     0 -104413.43    0  223 -107879.83 -104413.43  3.21%     -   46s\n",
      "     0     0 -104413.64    0  263 -107879.83 -104413.64  3.21%     -   46s\n",
      "     0     0 -104418.71    0  217 -107879.83 -104418.71  3.21%     -   48s\n",
      "H    0     0                    -107649.8467 -104418.71  3.00%     -   48s\n",
      "     0     0 -104426.43    0  258 -107649.85 -104426.43  2.99%     -   49s\n",
      "     0     0 -104426.43    0  258 -107649.85 -104426.43  2.99%     -   50s\n",
      "     0     0 -104429.51    0  294 -107649.85 -104429.51  2.99%     -   51s\n",
      "     0     0 -104430.35    0  303 -107649.85 -104430.35  2.99%     -   52s\n",
      "     0     0 -104464.19    0  251 -107649.85 -104464.19  2.96%     -   53s\n",
      "H    0     0                    -106681.3986 -104464.19  2.08%     -   53s\n",
      "     0     0 -104467.05    0  365 -106681.40 -104467.05  2.08%     -   55s\n",
      "     0     0 -104467.39    0  263 -106681.40 -104467.39  2.08%     -   55s\n",
      "     0     0 -104500.70    0  365 -106681.40 -104500.70  2.04%     -   57s\n",
      "     0     0 -104503.28    0  380 -106681.40 -104503.28  2.04%     -   58s\n",
      "     0     0 -104505.34    0  234 -106681.40 -104505.34  2.04%     -   59s\n",
      "     0     0 -104512.14    0  301 -106681.40 -104512.14  2.03%     -   60s\n",
      "H    0     0                    -105594.1435 -104512.14  1.02%     -   61s\n",
      "     0     0 -104512.45    0  301 -105594.14 -104512.45  1.02%     -   61s\n",
      "     0     0 -104523.07    0  393 -105594.14 -104523.07  1.01%     -   63s\n",
      "     0     0 -104525.28    0  411 -105594.14 -104525.28  1.01%     -   64s\n",
      "     0     0 -104526.63    0  425 -105594.14 -104526.63  1.01%     -   65s\n",
      "     0     0 -104535.58    0  426 -105594.14 -104535.58  1.00%     -   68s\n",
      "     0     0 -104536.90    0  425 -105594.14 -104536.90  1.00%     -   70s\n",
      "     0     0 -104546.45    0  389 -105594.14 -104546.45  0.99%     -   72s\n",
      "     0     0 -104548.03    0  403 -105594.14 -104548.03  0.99%     -   73s\n",
      "     0     0 -104549.43    0  414 -105594.14 -104549.43  0.99%     -   76s\n",
      "     0     0 -104549.88    0  376 -105594.14 -104549.88  0.99%     -   77s\n",
      "     0     0 -104550.86    0  338 -105594.14 -104550.86  0.99%     -   79s\n",
      "     0     0 -104550.91    0  403 -105594.14 -104550.91  0.99%     -   79s\n",
      "     0     0 -104552.89    0  227 -105594.14 -104552.89  0.99%     -   80s\n",
      "H    0     0                    -105572.1002 -104552.89  0.97%     -   81s\n",
      "     0     0 -104553.39    0  380 -105572.10 -104553.39  0.96%     -   81s\n",
      "     0     0 -104553.80    0  365 -105572.10 -104553.80  0.96%     -   84s\n",
      "     0     0 -104554.35    0  366 -105572.10 -104554.35  0.96%     -   85s\n",
      "     0     0 -104554.35    0  364 -105572.10 -104554.35  0.96%     -   86s\n",
      "     0     2 -104554.35    0  364 -105572.10 -104554.35  0.96%     -   87s\n",
      "    54    46 -104737.45   15  188 -105572.10 -104571.20  0.95%   138   90s\n",
      "   154   126 -105548.23   56    - -105572.10 -104571.20  0.95%   134   95s\n",
      "*  183   150              75    -105465.2831 -104571.20  0.85%   117   95s\n",
      "*  319   220             102    -105399.7729 -104639.28  0.72%   103   98s\n",
      "   405   275 -104940.99   13  226 -105399.77 -104647.67  0.71%  99.2  100s\n",
      "   654   425 -104846.25    5  236 -105399.77 -104738.12  0.63%  90.7  105s\n"
     ]
    },
    {
     "name": "stdout",
     "output_type": "stream",
     "text": [
      "H  724   374                    -105290.3516 -104738.12  0.52%  92.6  106s\n",
      "   727   376 -105275.85   22  159 -105290.35 -104738.12  0.52%  92.2  111s\n",
      "   741   386 -105287.26   39  405 -105290.35 -104738.12  0.52%  90.5  116s\n",
      "H  741   366                    -105278.2311 -104738.12  0.51%  90.5  117s\n",
      "   746   369 -104858.14   12  393 -105278.23 -104738.12  0.51%  89.8  121s\n",
      "   751   372 -104770.76    8  426 -105278.23 -104738.12  0.51%  89.3  126s\n",
      "   752   373 -105271.59   33  416 -105278.23 -104738.12  0.51%  89.1  130s\n",
      "   759   381 -104842.04   11  379 -105278.23 -104738.12  0.51%  97.0  135s\n",
      "   801   394 -104761.94   19  284 -105278.23 -104761.94  0.49%   103  140s\n",
      "H  837   378                    -105226.5119 -104816.72  0.39%   106  142s\n",
      "   933   382 -105186.37   29   91 -105226.51 -104828.57  0.38%   109  146s\n",
      "  1060   375 -105010.88   16  235 -105226.51 -104897.64  0.31%   112  150s\n",
      "  1321   373     cutoff   18      -105226.51 -104981.06  0.23%   108  155s\n",
      "  1577   368     cutoff   18      -105226.51 -105013.84  0.20%   104  160s\n",
      "  1975   359 -105161.78   31  288 -105226.51 -105058.95  0.16%  98.5  167s\n",
      "  2194   359 -105119.09   20   46 -105226.51 -105081.15  0.14%  96.8  170s\n",
      "  2559   411     cutoff   31      -105226.51 -105093.87  0.13%  93.8  175s\n",
      "  2961   436 -105162.35   33   81 -105226.51 -105114.11  0.11%  89.9  180s\n",
      "  3539   362     cutoff   33      -105226.51 -105148.04  0.07%  86.2  185s\n",
      "  4307    24     cutoff   26      -105226.51 -105203.27  0.02%  79.8  190s\n",
      "\n",
      "Cutting planes:\n",
      "  User: 165\n",
      "  Gomory: 4\n",
      "  Cover: 1\n",
      "  Flow cover: 22\n",
      "  Zero half: 44\n",
      "  Lazy constraints: 8\n",
      "\n",
      "Explored 4380 nodes (354387 simplex iterations) in 190.20 seconds\n",
      "Thread count was 4 (of 4 available processors)\n",
      "\n",
      "Solution count 1: -105227 \n",
      "\n",
      "Optimal solution found (tolerance 0.00e+00)\n",
      "Best objective -1.052265119168e+05, best bound -1.052265119168e+05, gap 0.0000%\n",
      "Parameter SolutionNumber unchanged\n",
      "   Value: 0  Min: 0  Max: 2000000000  Default: 0\n",
      "**********\n",
      "BN has score -105226.51191678016\n",
      "**********\n",
      "ANAPHYLAXIS<-TPR -471.48556937259855\n",
      "TPR<- -10901.914716929197\n",
      "ARTCO2<-VENTALV -1816.018107669981\n",
      "VENTALV<-INTUBATION,VENTLUNG -1785.1568955858966\n",
      "BP<-CO,TPR -4927.804606748883\n",
      "CO<-HR,STROKEVOLUME -2678.9117199075263\n",
      "CATECHOL<-ARTCO2,TPR -1521.3018734225625\n",
      "STROKEVOLUME<-HYPOVOLEMIA,LVFAILURE -4437.288938131533\n",
      "HR<-CATECHOL -3744.599767304855\n",
      "CVP<-LVEDVOLUME -3006.6153021322098\n",
      "LVEDVOLUME<-HYPOVOLEMIA,LVFAILURE -3613.5057310384145\n",
      "DISCONNECT<- -3295.0317430806754\n",
      "ERRCAUTER<- -3222.576822231058\n",
      "ERRLOWOUTPUT<- -1972.2788189759885\n",
      "EXPCO2<-ARTCO2,VENTLUNG -1772.6591272249061\n",
      "VENTLUNG<-INTUBATION,KINKEDTUBE,VENTTUBE -3618.0085247885145\n",
      "FIO2<- -1888.6286705336533\n",
      "HISTORY<- -2091.7769199432223\n",
      "HRBP<-ERRLOWOUTPUT,HR -1331.6218853034952\n",
      "HREKG<-ERRCAUTER,HR -1507.9736736634077\n",
      "HRSAT<-ERRCAUTER,HR -1452.085102920726\n",
      "HYPOVOLEMIA<- -4990.780506105162\n",
      "INSUFFANESTH<- -3303.7325344726705\n",
      "INTUBATION<- -3428.3602719444025\n",
      "KINKEDTUBE<- -1558.2831144287484\n",
      "LVFAILURE<-HISTORY -556.2566040066595\n",
      "MINVOL<-INTUBATION,VENTLUNG -2061.9057414227136\n",
      "MINVOLSET<-VENTMACH -946.5564916227886\n",
      "VENTMACH<- -6169.083417643342\n",
      "PAP<-PULMEMBOLUS -4008.254809145714\n",
      "PULMEMBOLUS<- -583.1474353126687\n",
      "PCWP<-LVEDVOLUME -2233.68753796065\n",
      "PRESS<-INTUBATION,KINKEDTUBE,VENTTUBE -8478.131859909445\n",
      "VENTTUBE<-DISCONNECT,VENTMACH -1814.1386675404647\n",
      "PVSAT<-FIO2,VENTALV -846.3768118197768\n",
      "SAO2<-PVSAT,SHUNT -1137.5909747223777\n",
      "SHUNT<-INTUBATION,PULMEMBOLUS -2052.9806218132726\n",
      "**********\n",
      "bnlearn modelstring = \n",
      "[ANAPHYLAXIS|TPR][TPR][ARTCO2|VENTALV][VENTALV|INTUBATION:VENTLUNG][BP|CO:TPR][CO|STROKEVOLUME:HR][CATECHOL|TPR:ARTCO2][STROKEVOLUME|LVFAILURE:HYPOVOLEMIA][HR|CATECHOL][CVP|LVEDVOLUME][LVEDVOLUME|LVFAILURE:HYPOVOLEMIA][DISCONNECT][ERRCAUTER][ERRLOWOUTPUT][EXPCO2|VENTLUNG:ARTCO2][VENTLUNG|VENTTUBE:KINKEDTUBE:INTUBATION][FIO2][HISTORY][HRBP|HR:ERRLOWOUTPUT][HREKG|HR:ERRCAUTER][HRSAT|HR:ERRCAUTER][HYPOVOLEMIA][INSUFFANESTH][INTUBATION][KINKEDTUBE][LVFAILURE|HISTORY][MINVOL|INTUBATION:VENTLUNG][MINVOLSET|VENTMACH][VENTMACH][PAP|PULMEMBOLUS][PULMEMBOLUS][PCWP|LVEDVOLUME][PRESS|VENTTUBE:KINKEDTUBE:INTUBATION][VENTTUBE|DISCONNECT:VENTMACH][PVSAT|FIO2:VENTALV][SAO2|SHUNT:PVSAT][SHUNT|INTUBATION:PULMEMBOLUS]\n",
      "**********\n",
      "CPDAG:\n",
      "Vertices: ANAPHYLAXIS,TPR,ARTCO2,VENTALV,BP,CO,CATECHOL,STROKEVOLUME,HR,CVP,LVEDVOLUME,DISCONNECT,ERRCAUTER,ERRLOWOUTPUT,EXPCO2,VENTLUNG,FIO2,HISTORY,HRBP,HREKG,HRSAT,HYPOVOLEMIA,INSUFFANESTH,INTUBATION,KINKEDTUBE,LVFAILURE,MINVOL,MINVOLSET,VENTMACH,PAP,PULMEMBOLUS,PCWP,PRESS,VENTTUBE,PVSAT,SAO2,SHUNT\n",
      "TPR-ANAPHYLAXIS\n",
      "TPR->BP\n",
      "TPR->CATECHOL\n",
      "ARTCO2->CATECHOL\n",
      "ARTCO2->EXPCO2\n",
      "VENTALV->ARTCO2\n",
      "VENTALV->PVSAT\n",
      "CO->BP\n",
      "CATECHOL->HR\n",
      "STROKEVOLUME->CO\n",
      "HR->CO\n",
      "HR->HRBP\n",
      "HR->HREKG\n",
      "HR->HRSAT\n",
      "LVEDVOLUME->CVP\n",
      "LVEDVOLUME->PCWP\n",
      "DISCONNECT->VENTTUBE\n",
      "ERRCAUTER->HREKG\n",
      "ERRCAUTER->HRSAT\n",
      "ERRLOWOUTPUT->HRBP\n",
      "VENTLUNG->EXPCO2\n",
      "VENTLUNG->MINVOL\n",
      "VENTLUNG->VENTALV\n",
      "FIO2->PVSAT\n",
      "HISTORY-LVFAILURE\n",
      "HYPOVOLEMIA->LVEDVOLUME\n",
      "HYPOVOLEMIA->STROKEVOLUME\n",
      "INTUBATION-MINVOL\n",
      "INTUBATION->PRESS\n",
      "INTUBATION->SHUNT\n",
      "INTUBATION-VENTALV\n",
      "INTUBATION->VENTLUNG\n",
      "KINKEDTUBE->PRESS\n",
      "KINKEDTUBE->VENTLUNG\n",
      "LVFAILURE->LVEDVOLUME\n",
      "LVFAILURE->STROKEVOLUME\n",
      "VENTMACH-MINVOLSET\n",
      "VENTMACH->VENTTUBE\n",
      "PULMEMBOLUS-PAP\n",
      "PULMEMBOLUS->SHUNT\n",
      "VENTTUBE->PRESS\n",
      "VENTTUBE->VENTLUNG\n",
      "PVSAT->SAO2\n",
      "SHUNT->SAO2\n",
      "\n"
     ]
    },
    {
     "data": {
      "image/png": "[encoded data removed]",
      "text/plain": [
       "<Figure size 432x288 with 1 Axes>"
      ]
     },
     "metadata": {},
     "output_type": "display_data"
    }
   ],
   "source": [
    "m2 = Gobnilp(gurobi_output=True)\n",
    "m2.use_discrete_data('alarm_10000.dat')"
   ]
  },
  {
   "cell_type": "markdown",
   "metadata": {},
   "source": [
    "Without the independence constraint solving takes 190 seconds (as opposed to 321 seconds), even though the set of allowed BNs is greater without the constraint. This is basically because Gobnilp is optimised for the case where the only constraint is that the BN is acyclic. \n",
    "\n",
    "The number of \"Lazy constraints\" posted in the two runs is worth examining: without the constraint there are only 8 but with the independence constraint there are 1153. This is because Gobnilp is adding constraints ruling out BNs (strictly speaking ancestral subgraphs of BNs) which do not satisfy the independence constraint. This is a crude method of enforcing (conditional) independence constraints and this adds to the slowness of solving."
   ]
  },
  {
   "cell_type": "code",
   "execution_count": null,
   "metadata": {},
   "outputs": [],
   "source": []
  }
 ],
 "metadata": {
  "kernelspec": {
   "display_name": "Python 3",
   "language": "python",
   "name": "python3"
  },
  "language_info": {
   "codemirror_mode": {
    "name": "ipython",
    "version": 3
   },
   "file_extension": ".py",
   "mimetype": "text/x-python",
   "name": "python",
   "nbconvert_exporter": "python",
   "pygments_lexer": "ipython3",
   "version": "3.6.9"
  }
 },
 "nbformat": 4,
 "nbformat_minor": 2
}
